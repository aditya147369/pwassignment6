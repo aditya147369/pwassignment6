{
 "cells": [
  {
   "cell_type": "markdown",
   "id": "a32256fe-ca62-4c90-8658-3157075c7ba9",
   "metadata": {},
   "source": [
    "Q1. Explain Class and Object with respect to Object-Oriented Programming. Give a suitable example."
   ]
  },
  {
   "cell_type": "code",
   "execution_count": 2,
   "id": "b0256250-b82e-4238-8787-d04fb1708c98",
   "metadata": {},
   "outputs": [
    {
     "name": "stdout",
     "output_type": "stream",
     "text": [
      "30\n",
      "10\n",
      "2.0\n"
     ]
    }
   ],
   "source": [
    "'''In oops a class is like a blueprint that is designed before creation of an object it \n",
    "consists of multiple variables, functions/methods that the object can use for performing \n",
    "particular task.\n",
    "As i mentioned above an object is a like a real world entity or a variable that is \n",
    "created based on the class it can perform various functions/method by using dot operator \n",
    "for example obj_name.func_name()'''\n",
    "#Below is the example of class arithmetic and arith is the object calling add,sub and div function\n",
    "class arithmetic:\n",
    "\n",
    "    def __init__(self,a,b):\n",
    "        self.a = a\n",
    "        self.b = b\n",
    "\n",
    "    def add(self):\n",
    "        print(self.a+self.b)\n",
    "    \n",
    "    def sub(self):\n",
    "        print(self.a-self.b)\n",
    "    \n",
    "    def div(self):\n",
    "        print(self.a/self.b)\n",
    "\n",
    "arith = arithmetic(20,10)\n",
    "arith.add() \n",
    "arith.sub()\n",
    "arith.div()"
   ]
  },
  {
   "cell_type": "markdown",
   "id": "10b2ceee-a829-41d9-a9bf-0274a0ba0d49",
   "metadata": {},
   "source": [
    "Q2. Name the four pillars of OOPs."
   ]
  },
  {
   "cell_type": "markdown",
   "id": "cae6c9d1-89d2-4463-a8f5-ea5b16de0ebc",
   "metadata": {},
   "source": [
    "1.Abstraction, 2.encapsulation, 3.inheritance, 4.polymorphism"
   ]
  },
  {
   "cell_type": "markdown",
   "id": "d25d5235-3b99-44a1-83f3-2c1f51ccbee4",
   "metadata": {},
   "source": [
    "Q3. Explain why the __init__() function is used. Give a suitable example."
   ]
  },
  {
   "cell_type": "code",
   "execution_count": 3,
   "id": "b38831e1-20ec-4c0d-a626-4a7717a3294d",
   "metadata": {},
   "outputs": [
    {
     "name": "stdout",
     "output_type": "stream",
     "text": [
      "100\n"
     ]
    }
   ],
   "source": [
    "'''__init__() is a dunder function it acts as a constructor defined in a class the use \n",
    "of __init__() is basically while creating an object/variable of that class it is called \n",
    "automatically and we can shape the objects initial requirements by passing arguments \n",
    "if needed at the run time.\n",
    "suppose we are creating an object of rectangle class we can use __init__() we can provide \n",
    "initial values like length and breadth of a rectangle'''\n",
    "\n",
    "\n",
    "class rectangle:\n",
    "\n",
    "    def __init__(self,l,b):\n",
    "        self.length = l\n",
    "        self.breadth = b\n",
    "\n",
    "    def area(self):\n",
    "        return self.length * self.breadth\n",
    "    \n",
    "rect = rectangle(10,10)\n",
    "print(rect.area())\n"
   ]
  },
  {
   "cell_type": "markdown",
   "id": "04f1c293-dccf-4a24-95d6-cb12ab6f2429",
   "metadata": {},
   "source": [
    "Q4. Why self is used in OOPs?"
   ]
  },
  {
   "cell_type": "markdown",
   "id": "a78cffda-c8f5-4c1c-b595-64c0f64284ad",
   "metadata": {},
   "source": [
    "In object-oriented programming the self keyword acts as a reference to the instance of the object created from the class. It allows us to access the objects attributes and methods \n",
    "when we create multiple objects from the same class each object has its own set of attributes but shares the same class. \n",
    "self is a word representing the instance itself and is used as the first parameter in instance methods. \n",
    "Although it is not strictly required to name it self but it is most widely used name which enhances code redability we can use any word instead of self its up to developers"
   ]
  },
  {
   "cell_type": "markdown",
   "id": "4cb5a835-d878-499c-8257-3f1bc27a779c",
   "metadata": {},
   "source": [
    "Q5. What is inheritance? Give an example for each type of inheritance."
   ]
  },
  {
   "cell_type": "code",
   "execution_count": 5,
   "id": "13f1ab8a-720b-4697-a0ff-732a352500e9",
   "metadata": {},
   "outputs": [
    {
     "name": "stdout",
     "output_type": "stream",
     "text": [
      "this is a parent class\n",
      "this is a child class\n"
     ]
    }
   ],
   "source": [
    "'''Inheritance in oops means borrowing features from an existing class into a new class \n",
    "suppose we have two classes parent class and a child class\n",
    "and we inherit child class from parent class then all the variables and functions of the \n",
    "parent class will to available to child class object and its own functions also it allows\n",
    "code reusablity'''\n",
    "#There are mainly 3 types of inheritance\n",
    "#Single inheritance\n",
    "class parent:\n",
    "\n",
    "    def parent_display(self):\n",
    "        print(\"this is a parent class\")\n",
    "\n",
    "class child(parent):\n",
    "\n",
    "    def child_display(self):\n",
    "        print(\"this is a child class\")\n",
    "\n",
    "c = child()\n",
    "c.parent_display()\n",
    "c.child_display()"
   ]
  },
  {
   "cell_type": "code",
   "execution_count": 6,
   "id": "a2f8f2b0-80e9-44a9-9829-fcc05ce300e7",
   "metadata": {},
   "outputs": [
    {
     "name": "stdout",
     "output_type": "stream",
     "text": [
      "this is a grand_parent class\n",
      "this is a parent class\n",
      "this is a child class\n"
     ]
    }
   ],
   "source": [
    "#Multilevel inheritance\n",
    "class grand_parent:\n",
    "\n",
    "    def grandparent_display(self):\n",
    "        print(\"this is a grand_parent class\")\n",
    "\n",
    "class parent(grand_parent):\n",
    "\n",
    "    def parent_display(self):\n",
    "        print(\"this is a parent class\")\n",
    "\n",
    "class child(parent):\n",
    "\n",
    "    def child_display(self):\n",
    "        print(\"this is a child class\")\n",
    "\n",
    "c = child()\n",
    "c.grandparent_display()\n",
    "c.parent_display()\n",
    "c.child_display()\n"
   ]
  },
  {
   "cell_type": "code",
   "execution_count": 7,
   "id": "7e47c4f8-ca37-42c0-8026-55d77a4a921e",
   "metadata": {},
   "outputs": [
    {
     "name": "stdout",
     "output_type": "stream",
     "text": [
      "this is a grand_parent class\n",
      "this is a parent class\n",
      "this is a child class\n"
     ]
    }
   ],
   "source": [
    "#Multiple inheritance\n",
    "class grand_parent:\n",
    "\n",
    "    def grandparent_display(self):\n",
    "        print(\"this is a grand_parent class\")\n",
    "\n",
    "class parent:\n",
    "\n",
    "    def parent_display(self):\n",
    "        print(\"this is a parent class\")\n",
    "\n",
    "class child(parent,grand_parent):\n",
    "\n",
    "    def child_display(self):\n",
    "        print(\"this is a child class\")\n",
    "\n",
    "\n",
    "c = child()\n",
    "c.grandparent_display()\n",
    "c.parent_display()\n",
    "c.child_display()"
   ]
  },
  {
   "cell_type": "code",
   "execution_count": null,
   "id": "6b76bc0a-73d1-491a-b06a-0902dbda89c8",
   "metadata": {},
   "outputs": [],
   "source": []
  }
 ],
 "metadata": {
  "kernelspec": {
   "display_name": "Python 3 (ipykernel)",
   "language": "python",
   "name": "python3"
  },
  "language_info": {
   "codemirror_mode": {
    "name": "ipython",
    "version": 3
   },
   "file_extension": ".py",
   "mimetype": "text/x-python",
   "name": "python",
   "nbconvert_exporter": "python",
   "pygments_lexer": "ipython3",
   "version": "3.10.8"
  }
 },
 "nbformat": 4,
 "nbformat_minor": 5
}
